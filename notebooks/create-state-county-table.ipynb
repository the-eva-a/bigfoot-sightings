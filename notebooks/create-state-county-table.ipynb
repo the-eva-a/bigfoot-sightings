{
 "cells": [
  {
   "cell_type": "code",
   "execution_count": 32,
   "metadata": {},
   "outputs": [],
   "source": [
    "# Get dependencies\n",
    "import requests\n",
    "import pandas as pd\n",
    "\n",
    "# load bigfoot data\n",
    "bigfoot_coords = pd.read_json('../data/bigfoot_coordinates_clean_cols.json')"
   ]
  },
  {
   "cell_type": "code",
   "execution_count": 33,
   "metadata": {},
   "outputs": [],
   "source": [
    "county_df = bigfoot_coords[['county', 'state']].drop_duplicates(subset=['county','state'])"
   ]
  },
  {
   "cell_type": "code",
   "execution_count": null,
   "metadata": {},
   "outputs": [
    {
     "name": "stdout",
     "output_type": "stream",
     "text": [
      "                      name  population state_no county_no\n",
      "0  Autauga County, Alabama       55639       01       001\n",
      "1  Baldwin County, Alabama      218289       01       003\n",
      "2  Barbour County, Alabama       25026       01       005\n",
      "3     Bibb County, Alabama       22374       01       007\n",
      "4   Blount County, Alabama       57755       01       009\n"
     ]
    }
   ],
   "source": [
    "# API URL and params\n",
    "api_url = \"https://api.census.gov/data/2020/acs/acs5\"\n",
    "params = {\n",
    "    \"get\": \"NAME,B01003_001E\",\n",
    "    \"for\": \"county:*\",\n",
    "    \"key\": \"API-KEY\"\n",
    "}\n",
    "\n",
    "# Make the API request\n",
    "response = requests.get(api_url,params=params)\n",
    "\n",
    "# check for successful connection\n",
    "if response.status_code == 200:\n",
    "    # Parse the JSON response\n",
    "    data = response.json()\n",
    "\n",
    "    # Create a DataFrame\n",
    "    columns = data[0] # Column names\n",
    "    rows = data[1:] # Data rows\n",
    "    county_pop_df = pd.DataFrame(rows, columns=columns)\n",
    "\n",
    "    # Cleanup  \n",
    "    county_pop_df.rename(columns={\n",
    "        \"NAME\": \"name\", \n",
    "        \"B01003_001E\": \"population\", \n",
    "        \"state\": \"state_no\",\n",
    "        \"county\": \"county_no\" \n",
    "        }, inplace=True)\n",
    "    county_pop_df['population'] = pd.to_numeric(county_pop_df['population'], errors='coerce')\n",
    "    \n",
    "    print(county_pop_df.head())\n"
   ]
  },
  {
   "cell_type": "code",
   "execution_count": 35,
   "metadata": {},
   "outputs": [],
   "source": [
    "county_pop_df[['county', 'state']] = county_pop_df['name'].str.split(',', expand=True)\n",
    "county_pop_df.head()\n",
    "county_pop_df = county_pop_df[['state', 'county', 'population']]\n",
    "county_pop_df.to_json('../data/county_populations.json', orient='records')"
   ]
  }
 ],
 "metadata": {
  "kernelspec": {
   "display_name": "myenv",
   "language": "python",
   "name": "python3"
  },
  "language_info": {
   "codemirror_mode": {
    "name": "ipython",
    "version": 3
   },
   "file_extension": ".py",
   "mimetype": "text/x-python",
   "name": "python",
   "nbconvert_exporter": "python",
   "pygments_lexer": "ipython3",
   "version": "3.12.4"
  }
 },
 "nbformat": 4,
 "nbformat_minor": 2
}
