{
 "cells": [
  {
   "cell_type": "markdown",
   "metadata": {},
   "source": [
    "# State-County Table with Population Data\n",
    "\n",
    "This notebook creates a comprehensive table of U.S. counties and states, enriched with population data. The data is sourced from the cleaned Bigfoot sightings dataset and supplemented with U.S. Census Bureau's ACS5 data for population statistics. \n",
    "\n",
    "---\n",
    "\n",
    "## Objectives\n",
    "1. Extract unique county-state pairs from the Bigfoot sightings dataset.\n",
    "2. Use the Census API to fetch population data for all U.S. counties.\n",
    "3. Combine the datasets and save the resulting table for future use.\n"
   ]
  },
  {
   "cell_type": "code",
   "execution_count": null,
   "metadata": {},
   "outputs": [],
   "source": [
    "# Get dependencies\n",
    "import requests\n",
    "import pandas as pd\n",
    "import os\n",
    "from dotenv import load_dotenv\n",
    "\n",
    "# Obtain environment variables\n",
    "load_dotenv()\n",
    "CENSUS_API_KEY = os.getenv('CENSUS_API_KEY')\n",
    "\n",
    "# load bigfoot data\n",
    "bigfoot_coords = pd.read_json('../data/bigfoot_coordinates_clean_cols.json')"
   ]
  },
  {
   "cell_type": "markdown",
   "metadata": {},
   "source": [
    "### Extract Unique County-State Pairs\n",
    "From the Bigfoot dataset, extract unique combinations of counties and states.\n"
   ]
  },
  {
   "cell_type": "code",
   "execution_count": null,
   "metadata": {},
   "outputs": [],
   "source": [
    "county_df = bigfoot_coords[['county', 'state']].drop_duplicates(subset=['county','state'])"
   ]
  },
  {
   "cell_type": "markdown",
   "metadata": {},
   "source": [
    "### Fetching Population Data Using the Census API\n",
    "Retrieve population data for all U.S. counties from the Census Bureau's ACS5 dataset. The response is converted into a DataFrame for further processing."
   ]
  },
  {
   "cell_type": "code",
   "execution_count": null,
   "metadata": {},
   "outputs": [],
   "source": [
    "# API URL and params\n",
    "api_url = \"https://api.census.gov/data/2020/acs/acs5\"\n",
    "params = {\n",
    "    \"get\": \"NAME,B01003_001E\",\n",
    "    \"for\": \"county:*\",\n",
    "    \"key\": CENSUS_API_KEY\n",
    "}\n",
    "\n",
    "# Make the API request\n",
    "response = requests.get(api_url,params=params)\n",
    "\n",
    "# check for successful connection\n",
    "if response.status_code == 200:\n",
    "    # Parse the JSON response\n",
    "    data = response.json()\n",
    "\n",
    "    # Create a DataFrame\n",
    "    columns = data[0] # Column names\n",
    "    rows = data[1:] # Data rows\n",
    "    county_pop_df = pd.DataFrame(rows, columns=columns)\n",
    "\n",
    "    # Cleanup  \n",
    "    county_pop_df.rename(columns={\n",
    "        \"NAME\": \"name\", \n",
    "        \"B01003_001E\": \"population\", \n",
    "        \"state\": \"state_no\",\n",
    "        \"county\": \"county_no\" \n",
    "        }, inplace=True)\n",
    "    county_pop_df['population'] = pd.to_numeric(county_pop_df['population'], errors='coerce')\n",
    "    \n",
    "    print(county_pop_df.head())\n"
   ]
  },
  {
   "cell_type": "markdown",
   "metadata": {},
   "source": [
    "### Cleaning and Combining the Data"
   ]
  },
  {
   "cell_type": "code",
   "execution_count": null,
   "metadata": {},
   "outputs": [],
   "source": [
    "county_pop_df[['county', 'state']] = county_pop_df['name'].str.split(',', expand=True)\n",
    "county_pop_df.head()\n",
    "county_pop_df = county_pop_df[['state', 'county', 'population']]\n",
    "county_pop_df.to_json('../data/county_populations.json', orient='records')"
   ]
  },
  {
   "cell_type": "markdown",
   "metadata": {},
   "source": [
    "## Conclusion\n",
    "\n",
    "This notebook successfully creates a clean table of counties and states with population data. The processed dataset is stored in `../data/county_populations.json` for further analysis and integration into other projects.\n"
   ]
  }
 ],
 "metadata": {
  "kernelspec": {
   "display_name": "myenv",
   "language": "python",
   "name": "python3"
  },
  "language_info": {
   "codemirror_mode": {
    "name": "ipython",
    "version": 3
   },
   "file_extension": ".py",
   "mimetype": "text/x-python",
   "name": "python",
   "nbconvert_exporter": "python",
   "pygments_lexer": "ipython3",
   "version": "3.12.4"
  }
 },
 "nbformat": 4,
 "nbformat_minor": 2
}
