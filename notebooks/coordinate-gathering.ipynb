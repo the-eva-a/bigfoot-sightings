{
 "cells": [
  {
   "cell_type": "markdown",
   "metadata": {},
   "source": [
    "# Bigfoot Coordinate Gathering\n",
    "\n",
    "This notebook processes Bigfoot sighting data to extract or enrich geolocation information. It uses Google Maps API for geocoding and regex to extract coordinates directly from the dataset. The cleaned data will include latitude and longitude values for each sighting, enabling geographic visualization and analysis.\n",
    "\n"
   ]
  },
  {
   "cell_type": "code",
   "execution_count": null,
   "metadata": {},
   "outputs": [],
   "source": [
    "# Dependencies\n",
    "import googlemaps\n",
    "import pandas as pd\n",
    "\n",
    "# Initalize the Google Maps API Client (Replace SECRET with the actual key)\n",
    "gmaps = googlemaps.Client(key=\"SECRET\")"
   ]
  },
  {
   "cell_type": "markdown",
   "metadata": {},
   "source": [
    "## Loading the Dataset\n",
    "Load the cleaned dataset from the data cleaning step."
   ]
  },
  {
   "cell_type": "code",
   "execution_count": null,
   "metadata": {},
   "outputs": [],
   "source": [
    "# Load the dataset\n",
    "bigfoot_df = pd.read_json('../data/filtered_years_clean.json')\n",
    "\n",
    "# Preview the first few rows\n",
    "bigfoot_df.head()"
   ]
  },
  {
   "cell_type": "markdown",
   "metadata": {},
   "source": [
    "## Geocoding with Google Maps API\n",
    "To enrich the dataset, this notebook attempts to geocode sightings using the following priority:\n",
    "1. `nearest town` and `state`\n",
    "2. `county` and `state`\n",
    "3. Fallback: None if no geolocation can be found."
   ]
  },
  {
   "cell_type": "code",
   "execution_count": null,
   "metadata": {},
   "outputs": [],
   "source": [
    "def geocode_with_fallback(row):\n",
    "    try:\n",
    "        # Try nearest town, state\n",
    "        location = gmaps.geocode(f\"{row['nearest town']}, {row['state']}\")\n",
    "        if location:\n",
    "            return location[0]['geometry']['location']['lat'], location[0]['geometry']['location']['lng']\n",
    "\n",
    "        # Fallback to county, state\n",
    "        location = gmaps.geocode(f\"{row['county']}, {row['state']}\")\n",
    "        if location:\n",
    "            return location[0]['geometry']['location']['lat'], location[0]['geometry']['location']['lng']\n",
    "\n",
    "        # If neither works, return None\n",
    "        return None, None\n",
    "    except Exception as e:\n",
    "        print(f\"Error geocoding {row['nearest town']}, {row['state']} or {row['county']}, {row['state']}: {e}\")\n",
    "        return None, None"
   ]
  },
  {
   "cell_type": "markdown",
   "metadata": {},
   "source": [
    "### Apply Geocoding to Dataset\n",
    "Run the geocoding function row-wise and create `latitude` and `longitude` columns in the dataframe."
   ]
  },
  {
   "cell_type": "code",
   "execution_count": null,
   "metadata": {},
   "outputs": [],
   "source": [
    "bigfoot_df[['latitude', 'Longitude']] = bigfoot_df.apply(\n",
    "    lambda row: pd.Series(geocode_with_fallback(row)), axis=1\n",
    ")"
   ]
  },
  {
   "cell_type": "code",
   "execution_count": null,
   "metadata": {},
   "outputs": [],
   "source": [
    "bigfoot_df = bigfoot_df.drop(columns='Unnamed: 0')\n",
    "bigfoot_df.columns"
   ]
  },
  {
   "cell_type": "markdown",
   "metadata": {},
   "source": [
    "## Extracting Coordinates from Observations\n",
    "Regex is used to extract specific latitude and longitude values embedded within the `observed` column. This ensures accuracy when the coordinates are directly available in the report text."
   ]
  },
  {
   "cell_type": "code",
   "execution_count": null,
   "metadata": {},
   "outputs": [],
   "source": [
    "# Now we search for specific coordinates from the observed data\n",
    "coordinate_pattern = r\"\\b((?:[0-8]?\\d(?:\\.\\d+)?|90(?:\\.0+)?)),\\s*(-?(?:1[0-7]\\d(?:\\.\\d+)?|0?\\d{1,2}(?:\\.\\d+)?|180(?:\\.0+)?))\\b\"\n",
    "\n",
    "# Extract new latitude and longitude\n",
    "extracted_coords = bigfoot_df['observed'].str.extract(coordinate_pattern, expand=True)\n",
    "extracted_coords.columns = ['new_lat', 'new_long']\n",
    "\n",
    "# Convert extracted values\n",
    "extracted_coords = extracted_coords.astype(float)\n",
    "\n",
    "# update lat and long if there are specified coords\n",
    "bigfoot_df['latitude'] = bigfoot_df.apply(\n",
    "    lambda row: extracted_coords.loc[row.name, 'new_lat'] if not pd.isna(extracted_coords.loc[row.name, 'new_lat']) else row['latitude'],\n",
    "    axis=1\n",
    ")\n",
    "\n",
    "bigfoot_df['longitude'] = bigfoot_df.apply(\n",
    "    lambda row: extracted_coords.loc[row.name, 'new_long'] if not pd.isna(extracted_coords.loc[row.name, 'new_long']) else row['longitude'],\n",
    "    axis=1\n",
    ")\n",
    "\n"
   ]
  },
  {
   "cell_type": "markdown",
   "metadata": {},
   "source": [
    "## Filtering Valid Coordinates\n",
    "Remove entries with invalid longitude values that fall outside the range expected for the United States and Canada.\n"
   ]
  },
  {
   "cell_type": "code",
   "execution_count": null,
   "metadata": {},
   "outputs": [],
   "source": [
    "# drop longitudes that would be outside of the USA / Canada\n",
    "filtered_coords = bigfoot_df[(bigfoot_df['longitude'] >= -152) & (bigfoot_df['longitude'] <= -67)]"
   ]
  },
  {
   "cell_type": "code",
   "execution_count": 20,
   "metadata": {},
   "outputs": [],
   "source": [
    "bigfoot_df.to_json('../data/bigfoot_coords_df.json', orient='records')\n"
   ]
  },
  {
   "cell_type": "markdown",
   "metadata": {},
   "source": [
    "## Saving Cleaned Data\n",
    "Export the cleaned dataset with enriched coordinates for future use.\n"
   ]
  },
  {
   "cell_type": "code",
   "execution_count": 21,
   "metadata": {},
   "outputs": [],
   "source": [
    "final_columns = ['report_number', 'report_class', 'state', 'county', 'latitude', 'longitude', 'season', 'month', 'observed']\n",
    "\n",
    "clean_coords_list = filtered_coords[final_columns]\n",
    "clean_coords_list.to_json('../data/bigfoot_coordinates_clean_cols.json', orient='records')"
   ]
  },
  {
   "cell_type": "markdown",
   "metadata": {},
   "source": [
    "## Conclusion\n",
    "This notebook enriched the Bigfoot dataset by adding geolocation data using Google Maps API and regex-based coordinate extraction. The cleaned dataset is now ready for geographic analysis and visualization."
   ]
  }
 ],
 "metadata": {
  "kernelspec": {
   "display_name": "myenv",
   "language": "python",
   "name": "python3"
  },
  "language_info": {
   "codemirror_mode": {
    "name": "ipython",
    "version": 3
   },
   "file_extension": ".py",
   "mimetype": "text/x-python",
   "name": "python",
   "nbconvert_exporter": "python",
   "pygments_lexer": "ipython3",
   "version": "3.12.4"
  }
 },
 "nbformat": 4,
 "nbformat_minor": 2
}
