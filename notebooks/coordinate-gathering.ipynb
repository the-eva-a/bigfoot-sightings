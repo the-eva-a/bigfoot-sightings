{
 "cells": [
  {
   "cell_type": "code",
   "execution_count": 1,
   "metadata": {},
   "outputs": [],
   "source": [
    "# Dependencies\n",
    "import googlemaps\n",
    "import pandas as pd"
   ]
  },
  {
   "cell_type": "code",
   "execution_count": null,
   "metadata": {},
   "outputs": [],
   "source": [
    "gmaps = googlemaps.Client(key=\"SECRET\")"
   ]
  },
  {
   "cell_type": "code",
   "execution_count": null,
   "metadata": {},
   "outputs": [],
   "source": [
    "bigfoot_df = pd.read_json('../data/filtered_years_clean.json')"
   ]
  },
  {
   "cell_type": "code",
   "execution_count": null,
   "metadata": {},
   "outputs": [],
   "source": [
    "def geocode_with_fallback(row):\n",
    "    try:\n",
    "        # Try nearest town, state\n",
    "        location = gmaps.geocode(f\"{row['nearest town']}, {row['state']}\")\n",
    "        if location:\n",
    "            return location[0]['geometry']['location']['lat'], location[0]['geometry']['location']['lng']\n",
    "\n",
    "        # Fallback to county, state\n",
    "        location = gmaps.geocode(f\"{row['county']}, {row['state']}\")\n",
    "        if location:\n",
    "            return location[0]['geometry']['location']['lat'], location[0]['geometry']['location']['lng']\n",
    "\n",
    "        # If neither works, return None\n",
    "        return None, None\n",
    "    except Exception as e:\n",
    "        print(f\"Error geocoding {row['nearest town']}, {row['state']} or {row['county']}, {row['state']}: {e}\")\n",
    "        return None, None"
   ]
  },
  {
   "cell_type": "code",
   "execution_count": null,
   "metadata": {},
   "outputs": [],
   "source": [
    "bigfoot_stub = bigfoot_df.iloc[:10]"
   ]
  },
  {
   "cell_type": "code",
   "execution_count": null,
   "metadata": {},
   "outputs": [],
   "source": [
    "bigfoot_df[['latitude', 'Longitude']] = bigfoot_df.apply(\n",
    "    lambda row: pd.Series(geocode_with_fallback(row)), axis=1\n",
    ")"
   ]
  },
  {
   "cell_type": "code",
   "execution_count": null,
   "metadata": {},
   "outputs": [],
   "source": [
    "bigfoot_df = bigfoot_df.drop(columns='Unnamed: 0')\n",
    "bigfoot_df.to_json('../data/bigfoot_coords_df.json', orient='records')"
   ]
  },
  {
   "cell_type": "code",
   "execution_count": 8,
   "metadata": {},
   "outputs": [
    {
     "data": {
      "text/plain": [
       "Index(['report_number', 'report_class', 'year', 'season', 'month', 'state',\n",
       "       'county', 'location_details', 'nearest_town', 'nearest_road',\n",
       "       'observed', 'also_noticed', 'other_witnesses', 'other_stories',\n",
       "       'time_and_conditions', 'environment', 'date', 'a_&_g_references',\n",
       "       'latitude', 'longitude'],\n",
       "      dtype='object')"
      ]
     },
     "execution_count": 8,
     "metadata": {},
     "output_type": "execute_result"
    }
   ],
   "source": [
    "bigfoot_df = pd.read_json('../data/bigfoot_coords_df.json')\n",
    "\n",
    "bigfoot_df.columns"
   ]
  },
  {
   "cell_type": "code",
   "execution_count": 10,
   "metadata": {},
   "outputs": [],
   "source": [
    "# drop longitudes that would be outside of the USA / Canada\n",
    "filtered_coords = bigfoot_df[(bigfoot_df['longitude'] >= -125) & (bigfoot_df['longitude'] <= -67)]"
   ]
  },
  {
   "cell_type": "code",
   "execution_count": 11,
   "metadata": {},
   "outputs": [],
   "source": [
    "final_columns = ['report_number', 'report_class', 'state', 'county', 'latitude', 'longitude', 'season', 'month', 'observed']\n",
    "\n",
    "clean_coords_list = filtered_coords[final_columns]\n",
    "clean_coords_list.to_json('../data/bigfoot_coordinates_clean_cols.json', orient='records')"
   ]
  }
 ],
 "metadata": {
  "kernelspec": {
   "display_name": "myenv",
   "language": "python",
   "name": "python3"
  },
  "language_info": {
   "codemirror_mode": {
    "name": "ipython",
    "version": 3
   },
   "file_extension": ".py",
   "mimetype": "text/x-python",
   "name": "python",
   "nbconvert_exporter": "python",
   "pygments_lexer": "ipython3",
   "version": "3.12.4"
  }
 },
 "nbformat": 4,
 "nbformat_minor": 2
}
