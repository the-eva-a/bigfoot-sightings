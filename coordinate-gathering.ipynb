{
 "cells": [
  {
   "cell_type": "code",
   "execution_count": 15,
   "metadata": {},
   "outputs": [],
   "source": [
    "# Dependencies\n",
    "import googlemaps\n",
    "import pandas as pd"
   ]
  },
  {
   "cell_type": "code",
   "execution_count": null,
   "metadata": {},
   "outputs": [],
   "source": [
    "gmaps = googlemaps.Client(key=\"SECRET\")"
   ]
  },
  {
   "cell_type": "code",
   "execution_count": 47,
   "metadata": {},
   "outputs": [],
   "source": [
    "bigfoot_df = pd.read_csv('data/filtered_years_clean.csv')"
   ]
  },
  {
   "cell_type": "code",
   "execution_count": 39,
   "metadata": {},
   "outputs": [],
   "source": [
    "def geocode_with_fallback(row):\n",
    "    try:\n",
    "        # Try nearest town, state\n",
    "        location = gmaps.geocode(f\"{row['nearest town']}, {row['state']}\")\n",
    "        if location:\n",
    "            return location[0]['geometry']['location']['lat'], location[0]['geometry']['location']['lng']\n",
    "\n",
    "        # Fallback to county, state\n",
    "        location = gmaps.geocode(f\"{row['county']}, {row['state']}\")\n",
    "        if location:\n",
    "            return location[0]['geometry']['location']['lat'], location[0]['geometry']['location']['lng']\n",
    "\n",
    "        # If neither works, return None\n",
    "        return None, None\n",
    "    except Exception as e:\n",
    "        print(f\"Error geocoding {row['nearest town']}, {row['state']} or {row['county']}, {row['state']}: {e}\")\n",
    "        return None, None"
   ]
  },
  {
   "cell_type": "code",
   "execution_count": 14,
   "metadata": {},
   "outputs": [],
   "source": [
    "bigfoot_stub = bigfoot_df.iloc[:10]"
   ]
  },
  {
   "cell_type": "code",
   "execution_count": 48,
   "metadata": {},
   "outputs": [],
   "source": [
    "bigfoot_df[['Latitude', 'Longitude']] = bigfoot_df.apply(\n",
    "    lambda row: pd.Series(geocode_with_fallback(row)), axis=1\n",
    ")"
   ]
  },
  {
   "cell_type": "code",
   "execution_count": 51,
   "metadata": {},
   "outputs": [],
   "source": [
    "bigfoot_df = bigfoot_df.drop(columns='Unnamed: 0')"
   ]
  },
  {
   "cell_type": "code",
   "execution_count": 52,
   "metadata": {},
   "outputs": [],
   "source": [
    "bigfoot_df.to_csv('data/bigfoot_coords_df.csv')"
   ]
  }
 ],
 "metadata": {
  "kernelspec": {
   "display_name": "myenv",
   "language": "python",
   "name": "python3"
  },
  "language_info": {
   "codemirror_mode": {
    "name": "ipython",
    "version": 3
   },
   "file_extension": ".py",
   "mimetype": "text/x-python",
   "name": "python",
   "nbconvert_exporter": "python",
   "pygments_lexer": "ipython3",
   "version": "3.12.4"
  }
 },
 "nbformat": 4,
 "nbformat_minor": 2
}
